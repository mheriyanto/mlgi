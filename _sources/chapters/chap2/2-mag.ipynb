{
 "cells": [
  {
   "cell_type": "markdown",
   "id": "a2c6428a",
   "metadata": {},
   "source": [
    "# Magnetik\n",
    "> Diperbarui: Minggu, 7 November 2017\n",
    "\n",
    "```{contents}\n",
    ":local:\n",
    "```\n",
    "pustaka: {cite}`Heriyanto2017mag`.\n",
    "\n",
    "pustaka: {cite}`Heriyanto2017mag2`."
   ]
  }
 ],
 "metadata": {
  "jupytext": {
   "cell_metadata_filter": "-all",
   "formats": "md:myst",
   "text_representation": {
    "extension": ".md",
    "format_name": "myst",
    "format_version": 0.13,
    "jupytext_version": "1.11.5"
   }
  },
  "kernelspec": {
   "display_name": "Python 3",
   "language": "python",
   "name": "python3"
  },
  "source_map": [
   14
  ]
 },
 "nbformat": 4,
 "nbformat_minor": 5
}