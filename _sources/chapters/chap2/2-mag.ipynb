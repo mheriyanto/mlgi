{
 "cells": [
  {
   "cell_type": "markdown",
   "id": "49a488ed",
   "metadata": {},
   "source": [
    "# Magnetik\n",
    "> Diperbarui: Minggu, 6 November 2016 \n",
    "\n",
    "```{contents}\n",
    ":local:\n",
    "```\n",
    "\n",
    "pustaka: {cite}`Heriyanto2017mag`."
   ]
  }
 ],
 "metadata": {
  "jupytext": {
   "cell_metadata_filter": "-all",
   "formats": "md:myst",
   "text_representation": {
    "extension": ".md",
    "format_name": "myst",
    "format_version": 0.13,
    "jupytext_version": "1.11.5"
   }
  },
  "kernelspec": {
   "display_name": "Python 3",
   "language": "python",
   "name": "python3"
  },
  "source_map": [
   14
  ]
 },
 "nbformat": 4,
 "nbformat_minor": 5
}