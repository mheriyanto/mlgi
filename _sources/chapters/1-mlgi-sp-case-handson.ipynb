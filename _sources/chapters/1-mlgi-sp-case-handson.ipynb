{
 "cells": [
  {
   "cell_type": "markdown",
   "id": "e853b851",
   "metadata": {},
   "source": [
    "# Hands-On Machine Learning and Geophysical Inversion: Self-Potential Case\n",
    "\n",
    "## An example cell\n",
    "\n",
    "With MyST Markdown, you can define code cells with a directive like so:"
   ]
  },
  {
   "cell_type": "code",
   "execution_count": 1,
   "id": "4e17b9ce",
   "metadata": {},
   "outputs": [
    {
     "name": "stdout",
     "output_type": "stream",
     "text": [
      "4\n"
     ]
    }
   ],
   "source": [
    "print(2 + 2)"
   ]
  },
  {
   "cell_type": "markdown",
   "id": "7d5a4053",
   "metadata": {},
   "source": [
    "When your book is built, the contents of any `{code-cell}` blocks will be\n",
    "executed with your default Jupyter kernel, and their outputs will be displayed\n",
    "in-line with the rest of your content.\n",
    "\n",
    "```{seealso}\n",
    "Jupyter Book uses [Jupytext](https://jupytext.readthedocs.io/en/latest/) to convert text-based files to notebooks, and can support [many other text-based notebook files](https://jupyterbook.org/file-types/jupytext.html).\n",
    "```"
   ]
  }
 ],
 "metadata": {
  "jupytext": {
   "cell_metadata_filter": "-all",
   "formats": "md:myst",
   "text_representation": {
    "extension": ".md",
    "format_name": "myst",
    "format_version": 0.13,
    "jupytext_version": "1.11.5"
   }
  },
  "kernelspec": {
   "display_name": "Python 3",
   "language": "python",
   "name": "python3"
  },
  "language_info": {
   "codemirror_mode": {
    "name": "ipython",
    "version": 3
   },
   "file_extension": ".py",
   "mimetype": "text/x-python",
   "name": "python",
   "nbconvert_exporter": "python",
   "pygments_lexer": "ipython3",
   "version": "3.8.10"
  },
  "source_map": [
   14,
   22,
   24
  ]
 },
 "nbformat": 4,
 "nbformat_minor": 5
}